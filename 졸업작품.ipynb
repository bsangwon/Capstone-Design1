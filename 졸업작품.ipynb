{
 "cells": [
  {
   "cell_type": "markdown",
   "id": "2b4935fc-66a2-4bc8-8335-08b63cc86b13",
   "metadata": {},
   "source": [
    "# 캡스톤디자인1 졸업작품\n",
    "### 데이터사이언스학과\n",
    "### 201884045 배상원"
   ]
  },
  {
   "cell_type": "markdown",
   "id": "a997ac89-add0-4ea5-b526-d193252ce0b4",
   "metadata": {},
   "source": [
    "# 데이터 전처리"
   ]
  },
  {
   "cell_type": "code",
   "execution_count": 1,
   "id": "dd0bf270-25fd-4bab-9d47-a68be4bd7de7",
   "metadata": {},
   "outputs": [],
   "source": [
    "#데이터 불러오기 및 column이름 붙이기\n",
    "import pandas as pd\n",
    "import numpy as np\n",
    "import warnings\n",
    "warnings.filterwarnings(\"ignore\")\n",
    "rating_file_path = 'C:/Users/USER/Desktop/ml-1m/ratings.dat'\n",
    "movie_file_path = 'C:/Users/USER/Desktop/ml-1m/movies.dat'\n",
    "user_file_path = 'C:/Users/USER/Desktop/ml-1m/users.dat'\n",
    "\n",
    "rating_data = pd.io.parsers.read_csv(rating_file_path,\n",
    "                                    names=['user_id', 'movie_id', 'rating', 'time'], delimiter='::', encoding='ISO-8859-1')\n",
    "movie_data = pd.io.parsers.read_csv(movie_file_path, \n",
    "                                    names=['movie_id', 'title', 'genre'], delimiter='::', encoding='ISO-8859-1')\n",
    "user_data = pd.io.parsers.read_csv(user_file_path, \n",
    "                                   names=['user_id', 'gender', 'age', 'occupation', 'zipcode'], delimiter='::', encoding='ISO-8859-1')"
   ]
  },
  {
   "cell_type": "code",
   "execution_count": 2,
   "id": "77f386a2-7c50-4d5e-926f-842ce4f2d69e",
   "metadata": {},
   "outputs": [],
   "source": [
    "#필요없는 zipcode와 timestamp를 제거\n",
    "user_data.drop('zipcode', axis = 1, inplace = True)\n",
    "rating_data.drop('time', axis = 1, inplace = True)"
   ]
  },
  {
   "cell_type": "code",
   "execution_count": 3,
   "id": "c2ce202b-b456-4c3b-b4e2-b22afe1ea7df",
   "metadata": {},
   "outputs": [],
   "source": [
    "#ratings, movies, users 데이터 합치기\n",
    "df_ratings_movie = pd.merge(rating_data, movie_data, on='movie_id')\n",
    "df_ratings_movie = df_ratings_movie.sort_values(by=['user_id'])\n",
    "df = pd.merge(df_ratings_movie, user_data, on='user_id')"
   ]
  },
  {
   "cell_type": "code",
   "execution_count": 4,
   "id": "f1b4c176-d5d4-4c19-9a83-f63a3facd1aa",
   "metadata": {},
   "outputs": [
    {
     "name": "stdout",
     "output_type": "stream",
     "text": [
      "<class 'pandas.core.frame.DataFrame'>\n",
      "Int64Index: 1000209 entries, 0 to 1000208\n",
      "Data columns (total 8 columns):\n",
      " #   Column      Non-Null Count    Dtype \n",
      "---  ------      --------------    ----- \n",
      " 0   user_id     1000209 non-null  int64 \n",
      " 1   movie_id    1000209 non-null  int64 \n",
      " 2   rating      1000209 non-null  int64 \n",
      " 3   title       1000209 non-null  object\n",
      " 4   genre       1000209 non-null  object\n",
      " 5   gender      1000209 non-null  object\n",
      " 6   age         1000209 non-null  int64 \n",
      " 7   occupation  1000209 non-null  int64 \n",
      "dtypes: int64(5), object(3)\n",
      "memory usage: 68.7+ MB\n"
     ]
    }
   ],
   "source": [
    "#데이터 결측값 및 type 확인\n",
    "df.info()"
   ]
  },
  {
   "cell_type": "code",
   "execution_count": 5,
   "id": "df332e62-7f51-4a46-82f4-c66b81bb0f47",
   "metadata": {},
   "outputs": [
    {
     "data": {
      "text/html": [
       "<div>\n",
       "<style scoped>\n",
       "    .dataframe tbody tr th:only-of-type {\n",
       "        vertical-align: middle;\n",
       "    }\n",
       "\n",
       "    .dataframe tbody tr th {\n",
       "        vertical-align: top;\n",
       "    }\n",
       "\n",
       "    .dataframe thead th {\n",
       "        text-align: right;\n",
       "    }\n",
       "</style>\n",
       "<table border=\"1\" class=\"dataframe\">\n",
       "  <thead>\n",
       "    <tr style=\"text-align: right;\">\n",
       "      <th></th>\n",
       "      <th>user_id</th>\n",
       "      <th>movie_id</th>\n",
       "      <th>rating</th>\n",
       "      <th>title</th>\n",
       "      <th>genre</th>\n",
       "      <th>gender</th>\n",
       "      <th>age</th>\n",
       "      <th>occupation</th>\n",
       "    </tr>\n",
       "  </thead>\n",
       "  <tbody>\n",
       "    <tr>\n",
       "      <th>0</th>\n",
       "      <td>1</td>\n",
       "      <td>1193</td>\n",
       "      <td>5</td>\n",
       "      <td>One Flew Over the Cuckoo's Nest (1975)</td>\n",
       "      <td>Drama</td>\n",
       "      <td>F</td>\n",
       "      <td>1</td>\n",
       "      <td>10</td>\n",
       "    </tr>\n",
       "    <tr>\n",
       "      <th>1</th>\n",
       "      <td>1</td>\n",
       "      <td>48</td>\n",
       "      <td>5</td>\n",
       "      <td>Pocahontas (1995)</td>\n",
       "      <td>Animation|Children's|Musical|Romance</td>\n",
       "      <td>F</td>\n",
       "      <td>1</td>\n",
       "      <td>10</td>\n",
       "    </tr>\n",
       "    <tr>\n",
       "      <th>2</th>\n",
       "      <td>1</td>\n",
       "      <td>938</td>\n",
       "      <td>4</td>\n",
       "      <td>Gigi (1958)</td>\n",
       "      <td>Musical</td>\n",
       "      <td>F</td>\n",
       "      <td>1</td>\n",
       "      <td>10</td>\n",
       "    </tr>\n",
       "    <tr>\n",
       "      <th>3</th>\n",
       "      <td>1</td>\n",
       "      <td>1207</td>\n",
       "      <td>4</td>\n",
       "      <td>To Kill a Mockingbird (1962)</td>\n",
       "      <td>Drama</td>\n",
       "      <td>F</td>\n",
       "      <td>1</td>\n",
       "      <td>10</td>\n",
       "    </tr>\n",
       "    <tr>\n",
       "      <th>4</th>\n",
       "      <td>1</td>\n",
       "      <td>1721</td>\n",
       "      <td>4</td>\n",
       "      <td>Titanic (1997)</td>\n",
       "      <td>Drama|Romance</td>\n",
       "      <td>F</td>\n",
       "      <td>1</td>\n",
       "      <td>10</td>\n",
       "    </tr>\n",
       "    <tr>\n",
       "      <th>...</th>\n",
       "      <td>...</td>\n",
       "      <td>...</td>\n",
       "      <td>...</td>\n",
       "      <td>...</td>\n",
       "      <td>...</td>\n",
       "      <td>...</td>\n",
       "      <td>...</td>\n",
       "      <td>...</td>\n",
       "    </tr>\n",
       "    <tr>\n",
       "      <th>1000204</th>\n",
       "      <td>6040</td>\n",
       "      <td>2641</td>\n",
       "      <td>2</td>\n",
       "      <td>Superman II (1980)</td>\n",
       "      <td>Action|Adventure|Sci-Fi</td>\n",
       "      <td>M</td>\n",
       "      <td>25</td>\n",
       "      <td>6</td>\n",
       "    </tr>\n",
       "    <tr>\n",
       "      <th>1000205</th>\n",
       "      <td>6040</td>\n",
       "      <td>1947</td>\n",
       "      <td>4</td>\n",
       "      <td>West Side Story (1961)</td>\n",
       "      <td>Musical|Romance</td>\n",
       "      <td>M</td>\n",
       "      <td>25</td>\n",
       "      <td>6</td>\n",
       "    </tr>\n",
       "    <tr>\n",
       "      <th>1000206</th>\n",
       "      <td>6040</td>\n",
       "      <td>904</td>\n",
       "      <td>4</td>\n",
       "      <td>Rear Window (1954)</td>\n",
       "      <td>Mystery|Thriller</td>\n",
       "      <td>M</td>\n",
       "      <td>25</td>\n",
       "      <td>6</td>\n",
       "    </tr>\n",
       "    <tr>\n",
       "      <th>1000207</th>\n",
       "      <td>6040</td>\n",
       "      <td>2664</td>\n",
       "      <td>4</td>\n",
       "      <td>Invasion of the Body Snatchers (1956)</td>\n",
       "      <td>Horror|Sci-Fi</td>\n",
       "      <td>M</td>\n",
       "      <td>25</td>\n",
       "      <td>6</td>\n",
       "    </tr>\n",
       "    <tr>\n",
       "      <th>1000208</th>\n",
       "      <td>6040</td>\n",
       "      <td>1173</td>\n",
       "      <td>2</td>\n",
       "      <td>Cook the Thief His Wife &amp; Her Lover, The (1989)</td>\n",
       "      <td>Drama</td>\n",
       "      <td>M</td>\n",
       "      <td>25</td>\n",
       "      <td>6</td>\n",
       "    </tr>\n",
       "  </tbody>\n",
       "</table>\n",
       "<p>1000209 rows × 8 columns</p>\n",
       "</div>"
      ],
      "text/plain": [
       "         user_id  movie_id  rating  \\\n",
       "0              1      1193       5   \n",
       "1              1        48       5   \n",
       "2              1       938       4   \n",
       "3              1      1207       4   \n",
       "4              1      1721       4   \n",
       "...          ...       ...     ...   \n",
       "1000204     6040      2641       2   \n",
       "1000205     6040      1947       4   \n",
       "1000206     6040       904       4   \n",
       "1000207     6040      2664       4   \n",
       "1000208     6040      1173       2   \n",
       "\n",
       "                                                   title  \\\n",
       "0                 One Flew Over the Cuckoo's Nest (1975)   \n",
       "1                                      Pocahontas (1995)   \n",
       "2                                            Gigi (1958)   \n",
       "3                           To Kill a Mockingbird (1962)   \n",
       "4                                         Titanic (1997)   \n",
       "...                                                  ...   \n",
       "1000204                               Superman II (1980)   \n",
       "1000205                           West Side Story (1961)   \n",
       "1000206                               Rear Window (1954)   \n",
       "1000207            Invasion of the Body Snatchers (1956)   \n",
       "1000208  Cook the Thief His Wife & Her Lover, The (1989)   \n",
       "\n",
       "                                        genre gender  age  occupation  \n",
       "0                                       Drama      F    1          10  \n",
       "1        Animation|Children's|Musical|Romance      F    1          10  \n",
       "2                                     Musical      F    1          10  \n",
       "3                                       Drama      F    1          10  \n",
       "4                               Drama|Romance      F    1          10  \n",
       "...                                       ...    ...  ...         ...  \n",
       "1000204               Action|Adventure|Sci-Fi      M   25           6  \n",
       "1000205                       Musical|Romance      M   25           6  \n",
       "1000206                      Mystery|Thriller      M   25           6  \n",
       "1000207                         Horror|Sci-Fi      M   25           6  \n",
       "1000208                                 Drama      M   25           6  \n",
       "\n",
       "[1000209 rows x 8 columns]"
      ]
     },
     "execution_count": 5,
     "metadata": {},
     "output_type": "execute_result"
    }
   ],
   "source": [
    "#데이터 확인\n",
    "df"
   ]
  },
  {
   "cell_type": "code",
   "execution_count": 6,
   "id": "235c92e5-f552-4237-814d-169ffab4f988",
   "metadata": {
    "tags": []
   },
   "outputs": [],
   "source": [
    "#genre 전처리\n",
    "df['genre'] = df.genre.str.replace('Action', '01')\n",
    "df['genre'] = df.genre.str.replace('Adventure', '02')\n",
    "df['genre'] = df.genre.str.replace('Animation', '03')\n",
    "df['genre'] = df.genre.str.replace('Children\\'s', '04')\n",
    "df['genre'] = df.genre.str.replace('Comedy', '05')\n",
    "df['genre'] = df.genre.str.replace('Crime', '06')\n",
    "df['genre'] = df.genre.str.replace('Documentary', '07')\n",
    "df['genre'] = df.genre.str.replace('Drama', '08')\n",
    "df['genre'] = df.genre.str.replace('Fantasy', '09')\n",
    "df['genre'] = df.genre.str.replace('Film-Noir', '10')\n",
    "df['genre'] = df.genre.str.replace('Horror', '11')\n",
    "df['genre'] = df.genre.str.replace('Musical', '12')\n",
    "df['genre'] = df.genre.str.replace('Mystery', '13')\n",
    "df['genre'] = df.genre.str.replace('Romance', '14')\n",
    "df['genre'] = df.genre.str.replace('Sci-Fi', '15')\n",
    "df['genre'] = df.genre.str.replace('Thriller', '16')\n",
    "df['genre'] = df.genre.str.replace('War', '17')\n",
    "df['genre'] = df.genre.str.replace('Western', '18')"
   ]
  },
  {
   "cell_type": "code",
   "execution_count": 7,
   "id": "569c9e53-4bae-4fa1-9353-58abe95feeb0",
   "metadata": {},
   "outputs": [],
   "source": [
    "#gender 전처리\n",
    "df['gender'] = df.gender.str.replace('F', '1')\n",
    "df['gender'] = df.gender.str.replace('M', '2')\n",
    "df['gender'] = df.gender.astype(int)"
   ]
  },
  {
   "cell_type": "code",
   "execution_count": 8,
   "id": "a5d78f4b-2cd9-4e29-98c8-1e65d5acd782",
   "metadata": {},
   "outputs": [
    {
     "data": {
      "text/html": [
       "<div>\n",
       "<style scoped>\n",
       "    .dataframe tbody tr th:only-of-type {\n",
       "        vertical-align: middle;\n",
       "    }\n",
       "\n",
       "    .dataframe tbody tr th {\n",
       "        vertical-align: top;\n",
       "    }\n",
       "\n",
       "    .dataframe thead th {\n",
       "        text-align: right;\n",
       "    }\n",
       "</style>\n",
       "<table border=\"1\" class=\"dataframe\">\n",
       "  <thead>\n",
       "    <tr style=\"text-align: right;\">\n",
       "      <th></th>\n",
       "      <th>user_id</th>\n",
       "      <th>movie_id</th>\n",
       "      <th>rating</th>\n",
       "      <th>title</th>\n",
       "      <th>genre</th>\n",
       "      <th>gender</th>\n",
       "      <th>age</th>\n",
       "      <th>occupation</th>\n",
       "    </tr>\n",
       "  </thead>\n",
       "  <tbody>\n",
       "    <tr>\n",
       "      <th>0</th>\n",
       "      <td>1</td>\n",
       "      <td>1193</td>\n",
       "      <td>5</td>\n",
       "      <td>One Flew Over the Cuckoo's Nest (1975)</td>\n",
       "      <td>08</td>\n",
       "      <td>1</td>\n",
       "      <td>1</td>\n",
       "      <td>10</td>\n",
       "    </tr>\n",
       "    <tr>\n",
       "      <th>1</th>\n",
       "      <td>1</td>\n",
       "      <td>48</td>\n",
       "      <td>5</td>\n",
       "      <td>Pocahontas (1995)</td>\n",
       "      <td>03|04|12|14</td>\n",
       "      <td>1</td>\n",
       "      <td>1</td>\n",
       "      <td>10</td>\n",
       "    </tr>\n",
       "    <tr>\n",
       "      <th>2</th>\n",
       "      <td>1</td>\n",
       "      <td>938</td>\n",
       "      <td>4</td>\n",
       "      <td>Gigi (1958)</td>\n",
       "      <td>12</td>\n",
       "      <td>1</td>\n",
       "      <td>1</td>\n",
       "      <td>10</td>\n",
       "    </tr>\n",
       "    <tr>\n",
       "      <th>3</th>\n",
       "      <td>1</td>\n",
       "      <td>1207</td>\n",
       "      <td>4</td>\n",
       "      <td>To Kill a Mockingbird (1962)</td>\n",
       "      <td>08</td>\n",
       "      <td>1</td>\n",
       "      <td>1</td>\n",
       "      <td>10</td>\n",
       "    </tr>\n",
       "    <tr>\n",
       "      <th>4</th>\n",
       "      <td>1</td>\n",
       "      <td>1721</td>\n",
       "      <td>4</td>\n",
       "      <td>Titanic (1997)</td>\n",
       "      <td>08|14</td>\n",
       "      <td>1</td>\n",
       "      <td>1</td>\n",
       "      <td>10</td>\n",
       "    </tr>\n",
       "    <tr>\n",
       "      <th>...</th>\n",
       "      <td>...</td>\n",
       "      <td>...</td>\n",
       "      <td>...</td>\n",
       "      <td>...</td>\n",
       "      <td>...</td>\n",
       "      <td>...</td>\n",
       "      <td>...</td>\n",
       "      <td>...</td>\n",
       "    </tr>\n",
       "    <tr>\n",
       "      <th>1000204</th>\n",
       "      <td>6040</td>\n",
       "      <td>2641</td>\n",
       "      <td>2</td>\n",
       "      <td>Superman II (1980)</td>\n",
       "      <td>01|02|15</td>\n",
       "      <td>2</td>\n",
       "      <td>25</td>\n",
       "      <td>6</td>\n",
       "    </tr>\n",
       "    <tr>\n",
       "      <th>1000205</th>\n",
       "      <td>6040</td>\n",
       "      <td>1947</td>\n",
       "      <td>4</td>\n",
       "      <td>West Side Story (1961)</td>\n",
       "      <td>12|14</td>\n",
       "      <td>2</td>\n",
       "      <td>25</td>\n",
       "      <td>6</td>\n",
       "    </tr>\n",
       "    <tr>\n",
       "      <th>1000206</th>\n",
       "      <td>6040</td>\n",
       "      <td>904</td>\n",
       "      <td>4</td>\n",
       "      <td>Rear Window (1954)</td>\n",
       "      <td>13|16</td>\n",
       "      <td>2</td>\n",
       "      <td>25</td>\n",
       "      <td>6</td>\n",
       "    </tr>\n",
       "    <tr>\n",
       "      <th>1000207</th>\n",
       "      <td>6040</td>\n",
       "      <td>2664</td>\n",
       "      <td>4</td>\n",
       "      <td>Invasion of the Body Snatchers (1956)</td>\n",
       "      <td>11|15</td>\n",
       "      <td>2</td>\n",
       "      <td>25</td>\n",
       "      <td>6</td>\n",
       "    </tr>\n",
       "    <tr>\n",
       "      <th>1000208</th>\n",
       "      <td>6040</td>\n",
       "      <td>1173</td>\n",
       "      <td>2</td>\n",
       "      <td>Cook the Thief His Wife &amp; Her Lover, The (1989)</td>\n",
       "      <td>08</td>\n",
       "      <td>2</td>\n",
       "      <td>25</td>\n",
       "      <td>6</td>\n",
       "    </tr>\n",
       "  </tbody>\n",
       "</table>\n",
       "<p>1000209 rows × 8 columns</p>\n",
       "</div>"
      ],
      "text/plain": [
       "         user_id  movie_id  rating  \\\n",
       "0              1      1193       5   \n",
       "1              1        48       5   \n",
       "2              1       938       4   \n",
       "3              1      1207       4   \n",
       "4              1      1721       4   \n",
       "...          ...       ...     ...   \n",
       "1000204     6040      2641       2   \n",
       "1000205     6040      1947       4   \n",
       "1000206     6040       904       4   \n",
       "1000207     6040      2664       4   \n",
       "1000208     6040      1173       2   \n",
       "\n",
       "                                                   title        genre  gender  \\\n",
       "0                 One Flew Over the Cuckoo's Nest (1975)           08       1   \n",
       "1                                      Pocahontas (1995)  03|04|12|14       1   \n",
       "2                                            Gigi (1958)           12       1   \n",
       "3                           To Kill a Mockingbird (1962)           08       1   \n",
       "4                                         Titanic (1997)        08|14       1   \n",
       "...                                                  ...          ...     ...   \n",
       "1000204                               Superman II (1980)     01|02|15       2   \n",
       "1000205                           West Side Story (1961)        12|14       2   \n",
       "1000206                               Rear Window (1954)        13|16       2   \n",
       "1000207            Invasion of the Body Snatchers (1956)        11|15       2   \n",
       "1000208  Cook the Thief His Wife & Her Lover, The (1989)           08       2   \n",
       "\n",
       "         age  occupation  \n",
       "0          1          10  \n",
       "1          1          10  \n",
       "2          1          10  \n",
       "3          1          10  \n",
       "4          1          10  \n",
       "...      ...         ...  \n",
       "1000204   25           6  \n",
       "1000205   25           6  \n",
       "1000206   25           6  \n",
       "1000207   25           6  \n",
       "1000208   25           6  \n",
       "\n",
       "[1000209 rows x 8 columns]"
      ]
     },
     "execution_count": 8,
     "metadata": {},
     "output_type": "execute_result"
    }
   ],
   "source": [
    "df"
   ]
  },
  {
   "cell_type": "code",
   "execution_count": 9,
   "id": "16d6938b-028d-4fb8-aeea-583f6d75b6d1",
   "metadata": {},
   "outputs": [],
   "source": [
    "# genre 앞의 2자리 남기고 뒷부분 제거\n",
    "df['genre'] = df.genre.str.slice(0,2).astype(int)"
   ]
  },
  {
   "cell_type": "code",
   "execution_count": 10,
   "id": "2b997fa4-a460-4d12-9c20-be0499e74409",
   "metadata": {},
   "outputs": [
    {
     "data": {
      "text/html": [
       "<div>\n",
       "<style scoped>\n",
       "    .dataframe tbody tr th:only-of-type {\n",
       "        vertical-align: middle;\n",
       "    }\n",
       "\n",
       "    .dataframe tbody tr th {\n",
       "        vertical-align: top;\n",
       "    }\n",
       "\n",
       "    .dataframe thead th {\n",
       "        text-align: right;\n",
       "    }\n",
       "</style>\n",
       "<table border=\"1\" class=\"dataframe\">\n",
       "  <thead>\n",
       "    <tr style=\"text-align: right;\">\n",
       "      <th></th>\n",
       "      <th>user_id</th>\n",
       "      <th>movie_id</th>\n",
       "      <th>rating</th>\n",
       "      <th>title</th>\n",
       "      <th>genre</th>\n",
       "      <th>gender</th>\n",
       "      <th>age</th>\n",
       "      <th>occupation</th>\n",
       "    </tr>\n",
       "  </thead>\n",
       "  <tbody>\n",
       "    <tr>\n",
       "      <th>0</th>\n",
       "      <td>1</td>\n",
       "      <td>1193</td>\n",
       "      <td>5</td>\n",
       "      <td>One Flew Over the Cuckoo's Nest (1975)</td>\n",
       "      <td>8</td>\n",
       "      <td>1</td>\n",
       "      <td>1</td>\n",
       "      <td>10</td>\n",
       "    </tr>\n",
       "    <tr>\n",
       "      <th>1</th>\n",
       "      <td>1</td>\n",
       "      <td>48</td>\n",
       "      <td>5</td>\n",
       "      <td>Pocahontas (1995)</td>\n",
       "      <td>3</td>\n",
       "      <td>1</td>\n",
       "      <td>1</td>\n",
       "      <td>10</td>\n",
       "    </tr>\n",
       "    <tr>\n",
       "      <th>2</th>\n",
       "      <td>1</td>\n",
       "      <td>938</td>\n",
       "      <td>4</td>\n",
       "      <td>Gigi (1958)</td>\n",
       "      <td>12</td>\n",
       "      <td>1</td>\n",
       "      <td>1</td>\n",
       "      <td>10</td>\n",
       "    </tr>\n",
       "    <tr>\n",
       "      <th>3</th>\n",
       "      <td>1</td>\n",
       "      <td>1207</td>\n",
       "      <td>4</td>\n",
       "      <td>To Kill a Mockingbird (1962)</td>\n",
       "      <td>8</td>\n",
       "      <td>1</td>\n",
       "      <td>1</td>\n",
       "      <td>10</td>\n",
       "    </tr>\n",
       "    <tr>\n",
       "      <th>4</th>\n",
       "      <td>1</td>\n",
       "      <td>1721</td>\n",
       "      <td>4</td>\n",
       "      <td>Titanic (1997)</td>\n",
       "      <td>8</td>\n",
       "      <td>1</td>\n",
       "      <td>1</td>\n",
       "      <td>10</td>\n",
       "    </tr>\n",
       "    <tr>\n",
       "      <th>...</th>\n",
       "      <td>...</td>\n",
       "      <td>...</td>\n",
       "      <td>...</td>\n",
       "      <td>...</td>\n",
       "      <td>...</td>\n",
       "      <td>...</td>\n",
       "      <td>...</td>\n",
       "      <td>...</td>\n",
       "    </tr>\n",
       "    <tr>\n",
       "      <th>1000204</th>\n",
       "      <td>6040</td>\n",
       "      <td>2641</td>\n",
       "      <td>2</td>\n",
       "      <td>Superman II (1980)</td>\n",
       "      <td>1</td>\n",
       "      <td>2</td>\n",
       "      <td>25</td>\n",
       "      <td>6</td>\n",
       "    </tr>\n",
       "    <tr>\n",
       "      <th>1000205</th>\n",
       "      <td>6040</td>\n",
       "      <td>1947</td>\n",
       "      <td>4</td>\n",
       "      <td>West Side Story (1961)</td>\n",
       "      <td>12</td>\n",
       "      <td>2</td>\n",
       "      <td>25</td>\n",
       "      <td>6</td>\n",
       "    </tr>\n",
       "    <tr>\n",
       "      <th>1000206</th>\n",
       "      <td>6040</td>\n",
       "      <td>904</td>\n",
       "      <td>4</td>\n",
       "      <td>Rear Window (1954)</td>\n",
       "      <td>13</td>\n",
       "      <td>2</td>\n",
       "      <td>25</td>\n",
       "      <td>6</td>\n",
       "    </tr>\n",
       "    <tr>\n",
       "      <th>1000207</th>\n",
       "      <td>6040</td>\n",
       "      <td>2664</td>\n",
       "      <td>4</td>\n",
       "      <td>Invasion of the Body Snatchers (1956)</td>\n",
       "      <td>11</td>\n",
       "      <td>2</td>\n",
       "      <td>25</td>\n",
       "      <td>6</td>\n",
       "    </tr>\n",
       "    <tr>\n",
       "      <th>1000208</th>\n",
       "      <td>6040</td>\n",
       "      <td>1173</td>\n",
       "      <td>2</td>\n",
       "      <td>Cook the Thief His Wife &amp; Her Lover, The (1989)</td>\n",
       "      <td>8</td>\n",
       "      <td>2</td>\n",
       "      <td>25</td>\n",
       "      <td>6</td>\n",
       "    </tr>\n",
       "  </tbody>\n",
       "</table>\n",
       "<p>1000209 rows × 8 columns</p>\n",
       "</div>"
      ],
      "text/plain": [
       "         user_id  movie_id  rating  \\\n",
       "0              1      1193       5   \n",
       "1              1        48       5   \n",
       "2              1       938       4   \n",
       "3              1      1207       4   \n",
       "4              1      1721       4   \n",
       "...          ...       ...     ...   \n",
       "1000204     6040      2641       2   \n",
       "1000205     6040      1947       4   \n",
       "1000206     6040       904       4   \n",
       "1000207     6040      2664       4   \n",
       "1000208     6040      1173       2   \n",
       "\n",
       "                                                   title  genre  gender  age  \\\n",
       "0                 One Flew Over the Cuckoo's Nest (1975)      8       1    1   \n",
       "1                                      Pocahontas (1995)      3       1    1   \n",
       "2                                            Gigi (1958)     12       1    1   \n",
       "3                           To Kill a Mockingbird (1962)      8       1    1   \n",
       "4                                         Titanic (1997)      8       1    1   \n",
       "...                                                  ...    ...     ...  ...   \n",
       "1000204                               Superman II (1980)      1       2   25   \n",
       "1000205                           West Side Story (1961)     12       2   25   \n",
       "1000206                               Rear Window (1954)     13       2   25   \n",
       "1000207            Invasion of the Body Snatchers (1956)     11       2   25   \n",
       "1000208  Cook the Thief His Wife & Her Lover, The (1989)      8       2   25   \n",
       "\n",
       "         occupation  \n",
       "0                10  \n",
       "1                10  \n",
       "2                10  \n",
       "3                10  \n",
       "4                10  \n",
       "...             ...  \n",
       "1000204           6  \n",
       "1000205           6  \n",
       "1000206           6  \n",
       "1000207           6  \n",
       "1000208           6  \n",
       "\n",
       "[1000209 rows x 8 columns]"
      ]
     },
     "execution_count": 10,
     "metadata": {},
     "output_type": "execute_result"
    }
   ],
   "source": [
    "df"
   ]
  },
  {
   "cell_type": "code",
   "execution_count": 11,
   "id": "ad28f53b-bfd2-4cfe-8759-25fd064bbcb5",
   "metadata": {},
   "outputs": [
    {
     "name": "stdout",
     "output_type": "stream",
     "text": [
      "<class 'pandas.core.frame.DataFrame'>\n",
      "Int64Index: 1000209 entries, 0 to 1000208\n",
      "Data columns (total 8 columns):\n",
      " #   Column      Non-Null Count    Dtype \n",
      "---  ------      --------------    ----- \n",
      " 0   user_id     1000209 non-null  int64 \n",
      " 1   movie_id    1000209 non-null  int64 \n",
      " 2   rating      1000209 non-null  int64 \n",
      " 3   title       1000209 non-null  object\n",
      " 4   genre       1000209 non-null  int32 \n",
      " 5   gender      1000209 non-null  int32 \n",
      " 6   age         1000209 non-null  int64 \n",
      " 7   occupation  1000209 non-null  int64 \n",
      "dtypes: int32(2), int64(5), object(1)\n",
      "memory usage: 61.0+ MB\n"
     ]
    }
   ],
   "source": [
    "# 바뀐내용 확인\n",
    "df.info()"
   ]
  },
  {
   "cell_type": "code",
   "execution_count": 12,
   "id": "d8e46a48-efda-4ee4-9d1e-1685bc136224",
   "metadata": {},
   "outputs": [
    {
     "data": {
      "text/plain": [
       "1     257457\n",
       "2      43630\n",
       "3      36936\n",
       "4      21491\n",
       "5     276923\n",
       "6      37849\n",
       "7       6817\n",
       "8     208627\n",
       "9        790\n",
       "10      9343\n",
       "11     44170\n",
       "12      7112\n",
       "13     10237\n",
       "14      2832\n",
       "15     11464\n",
       "16     17851\n",
       "17       991\n",
       "18      5689\n",
       "Name: genre, dtype: int64"
      ]
     },
     "execution_count": 12,
     "metadata": {},
     "output_type": "execute_result"
    }
   ],
   "source": [
    "df['genre'].value_counts().sort_index()#18개의 장르"
   ]
  },
  {
   "cell_type": "code",
   "execution_count": 13,
   "id": "9b1eefcc-9d17-4876-87d4-3ff18d688ef8",
   "metadata": {},
   "outputs": [
    {
     "data": {
      "text/plain": [
       "0     130499\n",
       "1      85351\n",
       "2      50068\n",
       "3      31623\n",
       "4     131032\n",
       "5      21850\n",
       "6      37205\n",
       "7     105425\n",
       "8       2706\n",
       "9      11345\n",
       "10     23290\n",
       "11     20563\n",
       "12     57214\n",
       "13     13754\n",
       "14     49109\n",
       "15     22951\n",
       "16     46021\n",
       "17     72816\n",
       "18     12086\n",
       "19     14904\n",
       "20     60397\n",
       "Name: occupation, dtype: int64"
      ]
     },
     "execution_count": 13,
     "metadata": {},
     "output_type": "execute_result"
    }
   ],
   "source": [
    "df['occupation'].value_counts().sort_index()#21개의 직업"
   ]
  },
  {
   "cell_type": "code",
   "execution_count": 14,
   "id": "455e181d-4c9f-445b-89a6-1017de7944e8",
   "metadata": {},
   "outputs": [
    {
     "data": {
      "text/plain": [
       "1      27211\n",
       "18    183536\n",
       "25    395556\n",
       "35    199003\n",
       "45     83633\n",
       "50     72490\n",
       "56     38780\n",
       "Name: age, dtype: int64"
      ]
     },
     "execution_count": 14,
     "metadata": {},
     "output_type": "execute_result"
    }
   ],
   "source": [
    "df['age'].value_counts().sort_index()#7개의 나이범주"
   ]
  },
  {
   "cell_type": "code",
   "execution_count": 15,
   "id": "ba98be37-a203-43c1-9659-e45797aead62",
   "metadata": {
    "tags": []
   },
   "outputs": [],
   "source": [
    "#age는 원래대로 하는 것과 전처리해주는 것과 결과적으로 정규화를 거치면 차이가 없다.\n",
    "#df['age'] = df.age.replace(1, '1')\n",
    "#df['age'] = df.age.replace(18, '2')\n",
    "#df['age'] = df.age.replace(25, '3')\n",
    "#df['age'] = df.age.replace(35, '4')\n",
    "#df['age'] = df.age.replace(45, '5')\n",
    "#df['age'] = df.age.replace(50, '6')\n",
    "#df['age'] = df.age.replace(56, '7')\n",
    "#df['age'] = df.age.astype(int)"
   ]
  },
  {
   "cell_type": "code",
   "execution_count": 16,
   "id": "b229dc9a-c91d-4223-88ff-bf9e29c2a489",
   "metadata": {},
   "outputs": [],
   "source": [
    "from sklearn import preprocessing\n",
    "from sklearn.preprocessing import MinMaxScaler\n",
    "from sklearn.cluster import KMeans\n",
    "import matplotlib.pyplot as plt\n",
    "import seaborn as sns\n",
    "from sklearn.preprocessing import StandardScaler"
   ]
  },
  {
   "cell_type": "markdown",
   "id": "17f75299-7881-4d9e-9a7b-59868446cc9b",
   "metadata": {},
   "source": [
    "# 데이터 정규화"
   ]
  },
  {
   "cell_type": "code",
   "execution_count": 17,
   "id": "388f1f78-9267-4d6f-94ad-25cb313c2765",
   "metadata": {},
   "outputs": [
    {
     "data": {
      "text/html": [
       "<div>\n",
       "<style scoped>\n",
       "    .dataframe tbody tr th:only-of-type {\n",
       "        vertical-align: middle;\n",
       "    }\n",
       "\n",
       "    .dataframe tbody tr th {\n",
       "        vertical-align: top;\n",
       "    }\n",
       "\n",
       "    .dataframe thead th {\n",
       "        text-align: right;\n",
       "    }\n",
       "</style>\n",
       "<table border=\"1\" class=\"dataframe\">\n",
       "  <thead>\n",
       "    <tr style=\"text-align: right;\">\n",
       "      <th></th>\n",
       "      <th>rating</th>\n",
       "      <th>genre</th>\n",
       "      <th>gender</th>\n",
       "      <th>age</th>\n",
       "      <th>occupation</th>\n",
       "    </tr>\n",
       "  </thead>\n",
       "  <tbody>\n",
       "    <tr>\n",
       "      <th>0</th>\n",
       "      <td>1.269747</td>\n",
       "      <td>0.723809</td>\n",
       "      <td>-1.748894</td>\n",
       "      <td>-2.445403</td>\n",
       "      <td>0.300683</td>\n",
       "    </tr>\n",
       "    <tr>\n",
       "      <th>1</th>\n",
       "      <td>1.269747</td>\n",
       "      <td>-0.611699</td>\n",
       "      <td>-1.748894</td>\n",
       "      <td>-2.445403</td>\n",
       "      <td>0.300683</td>\n",
       "    </tr>\n",
       "    <tr>\n",
       "      <th>2</th>\n",
       "      <td>0.374573</td>\n",
       "      <td>1.792215</td>\n",
       "      <td>-1.748894</td>\n",
       "      <td>-2.445403</td>\n",
       "      <td>0.300683</td>\n",
       "    </tr>\n",
       "    <tr>\n",
       "      <th>3</th>\n",
       "      <td>0.374573</td>\n",
       "      <td>0.723809</td>\n",
       "      <td>-1.748894</td>\n",
       "      <td>-2.445403</td>\n",
       "      <td>0.300683</td>\n",
       "    </tr>\n",
       "    <tr>\n",
       "      <th>4</th>\n",
       "      <td>0.374573</td>\n",
       "      <td>0.723809</td>\n",
       "      <td>-1.748894</td>\n",
       "      <td>-2.445403</td>\n",
       "      <td>0.300683</td>\n",
       "    </tr>\n",
       "    <tr>\n",
       "      <th>...</th>\n",
       "      <td>...</td>\n",
       "      <td>...</td>\n",
       "      <td>...</td>\n",
       "      <td>...</td>\n",
       "      <td>...</td>\n",
       "    </tr>\n",
       "    <tr>\n",
       "      <th>1000204</th>\n",
       "      <td>-1.415775</td>\n",
       "      <td>-1.145902</td>\n",
       "      <td>0.571790</td>\n",
       "      <td>-0.403193</td>\n",
       "      <td>-0.311749</td>\n",
       "    </tr>\n",
       "    <tr>\n",
       "      <th>1000205</th>\n",
       "      <td>0.374573</td>\n",
       "      <td>1.792215</td>\n",
       "      <td>0.571790</td>\n",
       "      <td>-0.403193</td>\n",
       "      <td>-0.311749</td>\n",
       "    </tr>\n",
       "    <tr>\n",
       "      <th>1000206</th>\n",
       "      <td>0.374573</td>\n",
       "      <td>2.059316</td>\n",
       "      <td>0.571790</td>\n",
       "      <td>-0.403193</td>\n",
       "      <td>-0.311749</td>\n",
       "    </tr>\n",
       "    <tr>\n",
       "      <th>1000207</th>\n",
       "      <td>0.374573</td>\n",
       "      <td>1.525113</td>\n",
       "      <td>0.571790</td>\n",
       "      <td>-0.403193</td>\n",
       "      <td>-0.311749</td>\n",
       "    </tr>\n",
       "    <tr>\n",
       "      <th>1000208</th>\n",
       "      <td>-1.415775</td>\n",
       "      <td>0.723809</td>\n",
       "      <td>0.571790</td>\n",
       "      <td>-0.403193</td>\n",
       "      <td>-0.311749</td>\n",
       "    </tr>\n",
       "  </tbody>\n",
       "</table>\n",
       "<p>1000209 rows × 5 columns</p>\n",
       "</div>"
      ],
      "text/plain": [
       "           rating     genre    gender       age  occupation\n",
       "0        1.269747  0.723809 -1.748894 -2.445403    0.300683\n",
       "1        1.269747 -0.611699 -1.748894 -2.445403    0.300683\n",
       "2        0.374573  1.792215 -1.748894 -2.445403    0.300683\n",
       "3        0.374573  0.723809 -1.748894 -2.445403    0.300683\n",
       "4        0.374573  0.723809 -1.748894 -2.445403    0.300683\n",
       "...           ...       ...       ...       ...         ...\n",
       "1000204 -1.415775 -1.145902  0.571790 -0.403193   -0.311749\n",
       "1000205  0.374573  1.792215  0.571790 -0.403193   -0.311749\n",
       "1000206  0.374573  2.059316  0.571790 -0.403193   -0.311749\n",
       "1000207  0.374573  1.525113  0.571790 -0.403193   -0.311749\n",
       "1000208 -1.415775  0.723809  0.571790 -0.403193   -0.311749\n",
       "\n",
       "[1000209 rows x 5 columns]"
      ]
     },
     "execution_count": 17,
     "metadata": {},
     "output_type": "execute_result"
    }
   ],
   "source": [
    "x = df.drop(['user_id', 'movie_id', 'title'], axis=1).values#독립변인들의 value값만 추출\n",
    "y = df['user_id'].values # 종속변인 추출\n",
    "\n",
    "x = StandardScaler().fit_transform(x)\n",
    "\n",
    "features = ['rating', 'genre', 'gender', 'age', 'occupation']\n",
    "df_scaled=pd.DataFrame(x, columns=features)\n",
    "df_scaled"
   ]
  },
  {
   "cell_type": "markdown",
   "id": "fe852308-001e-426d-8b24-c762ef5d10e1",
   "metadata": {},
   "source": [
    "# k-means clustering"
   ]
  },
  {
   "cell_type": "code",
   "execution_count": 18,
   "id": "e9c5dd4a-7bd2-41a8-a3bd-1233493b4584",
   "metadata": {},
   "outputs": [
    {
     "data": {
      "image/png": "[encoded data removed]",
      "text/plain": [
       "<Figure size 432x288 with 1 Axes>"
      ]
     },
     "metadata": {
      "needs_background": "light"
     },
     "output_type": "display_data"
    }
   ],
   "source": [
    "inertia = []\n",
    "for i in range(1, 10):\n",
    "    km = KMeans(n_clusters=i,\n",
    "               init='k-means++',\n",
    "               n_init=10,\n",
    "               max_iter=300,\n",
    "               random_state=0)\n",
    "    km.fit(df_scaled)\n",
    "    inertia.append(km.inertia_)\n",
    "plt.plot(range(1, 10), inertia, marker='o')\n",
    "plt.xlabel('number of clusters')\n",
    "plt.ylabel('inertia')\n",
    "plt.tight_layout()\n",
    "plt.ticklabel_format(style='plain')\n",
    "plt.show()"
   ]
  },
  {
   "cell_type": "markdown",
   "id": "6189f30a-de19-4590-b4b3-9cc024e1229f",
   "metadata": {},
   "source": [
    "# pca + k-means"
   ]
  },
  {
   "cell_type": "code",
   "execution_count": 19,
   "id": "31299779-018e-4550-a54f-c9c45d395dbb",
   "metadata": {},
   "outputs": [
    {
     "data": {
      "image/png": "[encoded data removed]",
      "text/plain": [
       "<Figure size 432x288 with 1 Axes>"
      ]
     },
     "metadata": {
      "needs_background": "light"
     },
     "output_type": "display_data"
    }
   ],
   "source": [
    "from sklearn import decomposition\n",
    "import matplotlib.pyplot as plt\n",
    "\n",
    "\n",
    "#compute PCA\n",
    "pca = decomposition.PCA(n_components = 2)\n",
    "pca.fit(df_scaled)\n",
    "X_trans = pca.transform(df_scaled)\n",
    "plt.scatter(X_trans[:, 0], X_trans[:, 1])\n",
    "plt.title(\"PCA\")\n",
    "plt.xlabel(\"feature1\")\n",
    "plt.ylabel(\"feature2\")\n",
    "plt.show()"
   ]
  },
  {
   "cell_type": "code",
   "execution_count": 20,
   "id": "b69ddb83-7180-44d8-a2b8-db4da6a12871",
   "metadata": {},
   "outputs": [
    {
     "data": {
      "image/png": "[encoded data removed]",
      "text/plain": [
       "<Figure size 432x288 with 1 Axes>"
      ]
     },
     "metadata": {
      "needs_background": "light"
     },
     "output_type": "display_data"
    }
   ],
   "source": [
    "kmeans = KMeans(n_clusters=4)\n",
    "kmeans = kmeans.fit(df_scaled)\n",
    "y_kmeans = kmeans.predict(df_scaled)\n",
    "plt.scatter(X_trans[:, 0], X_trans[:, 1], c=y_kmeans)\n",
    "plt.title(\"clustering\")\n",
    "plt.xlabel(\"feature1\")\n",
    "plt.ylabel(\"feature2\")\n",
    "plt.show()"
   ]
  },
  {
   "cell_type": "markdown",
   "id": "f074a94d-e39e-4f9b-a096-b03e0d7c62e5",
   "metadata": {},
   "source": [
    "# 군집 분석(clustering analysis)"
   ]
  },
  {
   "cell_type": "code",
   "execution_count": 21,
   "id": "c9fdafec-0cf2-462a-bae1-8c51a630b92e",
   "metadata": {},
   "outputs": [],
   "source": [
    "clust_model = KMeans(n_clusters = 4)\n",
    "clust_model.fit(df_scaled)\n",
    "centers = clust_model.cluster_centers_\n",
    "pred = clust_model.predict(df_scaled)"
   ]
  },
  {
   "cell_type": "code",
   "execution_count": 22,
   "id": "98b7ce11-0f91-40eb-a110-5bc22a678688",
   "metadata": {},
   "outputs": [
    {
     "data": {
      "text/html": [
       "<div>\n",
       "<style scoped>\n",
       "    .dataframe tbody tr th:only-of-type {\n",
       "        vertical-align: middle;\n",
       "    }\n",
       "\n",
       "    .dataframe tbody tr th {\n",
       "        vertical-align: top;\n",
       "    }\n",
       "\n",
       "    .dataframe thead th {\n",
       "        text-align: right;\n",
       "    }\n",
       "</style>\n",
       "<table border=\"1\" class=\"dataframe\">\n",
       "  <thead>\n",
       "    <tr style=\"text-align: right;\">\n",
       "      <th></th>\n",
       "      <th>rating</th>\n",
       "      <th>genre</th>\n",
       "      <th>gender</th>\n",
       "      <th>age</th>\n",
       "      <th>occupation</th>\n",
       "      <th>cluster</th>\n",
       "    </tr>\n",
       "  </thead>\n",
       "  <tbody>\n",
       "    <tr>\n",
       "      <th>0</th>\n",
       "      <td>1.269747</td>\n",
       "      <td>0.723809</td>\n",
       "      <td>-1.748894</td>\n",
       "      <td>-2.445403</td>\n",
       "      <td>0.300683</td>\n",
       "      <td>3</td>\n",
       "    </tr>\n",
       "    <tr>\n",
       "      <th>1</th>\n",
       "      <td>1.269747</td>\n",
       "      <td>-0.611699</td>\n",
       "      <td>-1.748894</td>\n",
       "      <td>-2.445403</td>\n",
       "      <td>0.300683</td>\n",
       "      <td>3</td>\n",
       "    </tr>\n",
       "    <tr>\n",
       "      <th>2</th>\n",
       "      <td>0.374573</td>\n",
       "      <td>1.792215</td>\n",
       "      <td>-1.748894</td>\n",
       "      <td>-2.445403</td>\n",
       "      <td>0.300683</td>\n",
       "      <td>3</td>\n",
       "    </tr>\n",
       "    <tr>\n",
       "      <th>3</th>\n",
       "      <td>0.374573</td>\n",
       "      <td>0.723809</td>\n",
       "      <td>-1.748894</td>\n",
       "      <td>-2.445403</td>\n",
       "      <td>0.300683</td>\n",
       "      <td>3</td>\n",
       "    </tr>\n",
       "    <tr>\n",
       "      <th>4</th>\n",
       "      <td>0.374573</td>\n",
       "      <td>0.723809</td>\n",
       "      <td>-1.748894</td>\n",
       "      <td>-2.445403</td>\n",
       "      <td>0.300683</td>\n",
       "      <td>3</td>\n",
       "    </tr>\n",
       "    <tr>\n",
       "      <th>...</th>\n",
       "      <td>...</td>\n",
       "      <td>...</td>\n",
       "      <td>...</td>\n",
       "      <td>...</td>\n",
       "      <td>...</td>\n",
       "      <td>...</td>\n",
       "    </tr>\n",
       "    <tr>\n",
       "      <th>1000204</th>\n",
       "      <td>-1.415775</td>\n",
       "      <td>-1.145902</td>\n",
       "      <td>0.571790</td>\n",
       "      <td>-0.403193</td>\n",
       "      <td>-0.311749</td>\n",
       "      <td>0</td>\n",
       "    </tr>\n",
       "    <tr>\n",
       "      <th>1000205</th>\n",
       "      <td>0.374573</td>\n",
       "      <td>1.792215</td>\n",
       "      <td>0.571790</td>\n",
       "      <td>-0.403193</td>\n",
       "      <td>-0.311749</td>\n",
       "      <td>2</td>\n",
       "    </tr>\n",
       "    <tr>\n",
       "      <th>1000206</th>\n",
       "      <td>0.374573</td>\n",
       "      <td>2.059316</td>\n",
       "      <td>0.571790</td>\n",
       "      <td>-0.403193</td>\n",
       "      <td>-0.311749</td>\n",
       "      <td>2</td>\n",
       "    </tr>\n",
       "    <tr>\n",
       "      <th>1000207</th>\n",
       "      <td>0.374573</td>\n",
       "      <td>1.525113</td>\n",
       "      <td>0.571790</td>\n",
       "      <td>-0.403193</td>\n",
       "      <td>-0.311749</td>\n",
       "      <td>2</td>\n",
       "    </tr>\n",
       "    <tr>\n",
       "      <th>1000208</th>\n",
       "      <td>-1.415775</td>\n",
       "      <td>0.723809</td>\n",
       "      <td>0.571790</td>\n",
       "      <td>-0.403193</td>\n",
       "      <td>-0.311749</td>\n",
       "      <td>0</td>\n",
       "    </tr>\n",
       "  </tbody>\n",
       "</table>\n",
       "<p>1000209 rows × 6 columns</p>\n",
       "</div>"
      ],
      "text/plain": [
       "           rating     genre    gender       age  occupation  cluster\n",
       "0        1.269747  0.723809 -1.748894 -2.445403    0.300683        3\n",
       "1        1.269747 -0.611699 -1.748894 -2.445403    0.300683        3\n",
       "2        0.374573  1.792215 -1.748894 -2.445403    0.300683        3\n",
       "3        0.374573  0.723809 -1.748894 -2.445403    0.300683        3\n",
       "4        0.374573  0.723809 -1.748894 -2.445403    0.300683        3\n",
       "...           ...       ...       ...       ...         ...      ...\n",
       "1000204 -1.415775 -1.145902  0.571790 -0.403193   -0.311749        0\n",
       "1000205  0.374573  1.792215  0.571790 -0.403193   -0.311749        2\n",
       "1000206  0.374573  2.059316  0.571790 -0.403193   -0.311749        2\n",
       "1000207  0.374573  1.525113  0.571790 -0.403193   -0.311749        2\n",
       "1000208 -1.415775  0.723809  0.571790 -0.403193   -0.311749        0\n",
       "\n",
       "[1000209 rows x 6 columns]"
      ]
     },
     "execution_count": 22,
     "metadata": {},
     "output_type": "execute_result"
    }
   ],
   "source": [
    "clust_df = df_scaled.copy()\n",
    "clust_df['cluster'] = pred\n",
    "clust_df"
   ]
  },
  {
   "cell_type": "code",
   "execution_count": 23,
   "id": "c09aa110-41f7-44e7-aacb-6e7b57afe07e",
   "metadata": {},
   "outputs": [
    {
     "data": {
      "text/html": [
       "<div>\n",
       "<style scoped>\n",
       "    .dataframe tbody tr th:only-of-type {\n",
       "        vertical-align: middle;\n",
       "    }\n",
       "\n",
       "    .dataframe tbody tr th {\n",
       "        vertical-align: top;\n",
       "    }\n",
       "\n",
       "    .dataframe thead th {\n",
       "        text-align: right;\n",
       "    }\n",
       "</style>\n",
       "<table border=\"1\" class=\"dataframe\">\n",
       "  <thead>\n",
       "    <tr style=\"text-align: right;\">\n",
       "      <th></th>\n",
       "      <th>rating</th>\n",
       "      <th>genre</th>\n",
       "      <th>gender</th>\n",
       "      <th>age</th>\n",
       "      <th>occupation</th>\n",
       "      <th>cluster</th>\n",
       "    </tr>\n",
       "  </thead>\n",
       "  <tbody>\n",
       "    <tr>\n",
       "      <th>1000208</th>\n",
       "      <td>-1.415775</td>\n",
       "      <td>0.723809</td>\n",
       "      <td>0.571790</td>\n",
       "      <td>-0.403193</td>\n",
       "      <td>-0.311749</td>\n",
       "      <td>0</td>\n",
       "    </tr>\n",
       "    <tr>\n",
       "      <th>408907</th>\n",
       "      <td>-1.415775</td>\n",
       "      <td>-0.878800</td>\n",
       "      <td>0.571790</td>\n",
       "      <td>0.447728</td>\n",
       "      <td>-0.158641</td>\n",
       "      <td>0</td>\n",
       "    </tr>\n",
       "    <tr>\n",
       "      <th>408906</th>\n",
       "      <td>-1.415775</td>\n",
       "      <td>-0.077496</td>\n",
       "      <td>0.571790</td>\n",
       "      <td>0.447728</td>\n",
       "      <td>-0.158641</td>\n",
       "      <td>0</td>\n",
       "    </tr>\n",
       "    <tr>\n",
       "      <th>408905</th>\n",
       "      <td>-2.310949</td>\n",
       "      <td>-1.145902</td>\n",
       "      <td>0.571790</td>\n",
       "      <td>0.447728</td>\n",
       "      <td>-0.158641</td>\n",
       "      <td>0</td>\n",
       "    </tr>\n",
       "    <tr>\n",
       "      <th>408904</th>\n",
       "      <td>-1.415775</td>\n",
       "      <td>-0.077496</td>\n",
       "      <td>0.571790</td>\n",
       "      <td>0.447728</td>\n",
       "      <td>-0.158641</td>\n",
       "      <td>0</td>\n",
       "    </tr>\n",
       "    <tr>\n",
       "      <th>...</th>\n",
       "      <td>...</td>\n",
       "      <td>...</td>\n",
       "      <td>...</td>\n",
       "      <td>...</td>\n",
       "      <td>...</td>\n",
       "      <td>...</td>\n",
       "    </tr>\n",
       "    <tr>\n",
       "      <th>523093</th>\n",
       "      <td>1.269747</td>\n",
       "      <td>0.723809</td>\n",
       "      <td>-1.748894</td>\n",
       "      <td>-0.403193</td>\n",
       "      <td>0.913116</td>\n",
       "      <td>3</td>\n",
       "    </tr>\n",
       "    <tr>\n",
       "      <th>523092</th>\n",
       "      <td>-0.520601</td>\n",
       "      <td>-0.077496</td>\n",
       "      <td>-1.748894</td>\n",
       "      <td>-0.403193</td>\n",
       "      <td>0.913116</td>\n",
       "      <td>3</td>\n",
       "    </tr>\n",
       "    <tr>\n",
       "      <th>523091</th>\n",
       "      <td>-0.520601</td>\n",
       "      <td>-0.878800</td>\n",
       "      <td>-1.748894</td>\n",
       "      <td>-0.403193</td>\n",
       "      <td>0.913116</td>\n",
       "      <td>3</td>\n",
       "    </tr>\n",
       "    <tr>\n",
       "      <th>523089</th>\n",
       "      <td>-0.520601</td>\n",
       "      <td>-1.145902</td>\n",
       "      <td>-1.748894</td>\n",
       "      <td>-0.403193</td>\n",
       "      <td>0.913116</td>\n",
       "      <td>3</td>\n",
       "    </tr>\n",
       "    <tr>\n",
       "      <th>500104</th>\n",
       "      <td>1.269747</td>\n",
       "      <td>0.723809</td>\n",
       "      <td>-1.748894</td>\n",
       "      <td>-0.998837</td>\n",
       "      <td>-0.617966</td>\n",
       "      <td>3</td>\n",
       "    </tr>\n",
       "  </tbody>\n",
       "</table>\n",
       "<p>1000209 rows × 6 columns</p>\n",
       "</div>"
      ],
      "text/plain": [
       "           rating     genre    gender       age  occupation  cluster\n",
       "1000208 -1.415775  0.723809  0.571790 -0.403193   -0.311749        0\n",
       "408907  -1.415775 -0.878800  0.571790  0.447728   -0.158641        0\n",
       "408906  -1.415775 -0.077496  0.571790  0.447728   -0.158641        0\n",
       "408905  -2.310949 -1.145902  0.571790  0.447728   -0.158641        0\n",
       "408904  -1.415775 -0.077496  0.571790  0.447728   -0.158641        0\n",
       "...           ...       ...       ...       ...         ...      ...\n",
       "523093   1.269747  0.723809 -1.748894 -0.403193    0.913116        3\n",
       "523092  -0.520601 -0.077496 -1.748894 -0.403193    0.913116        3\n",
       "523091  -0.520601 -0.878800 -1.748894 -0.403193    0.913116        3\n",
       "523089  -0.520601 -1.145902 -1.748894 -0.403193    0.913116        3\n",
       "500104   1.269747  0.723809 -1.748894 -0.998837   -0.617966        3\n",
       "\n",
       "[1000209 rows x 6 columns]"
      ]
     },
     "execution_count": 23,
     "metadata": {},
     "output_type": "execute_result"
    }
   ],
   "source": [
    "clust_df.sort_values(by=['cluster'], axis=0)"
   ]
  },
  {
   "cell_type": "code",
   "execution_count": 24,
   "id": "c7b4992d-9304-4799-b759-f412d57e44b4",
   "metadata": {},
   "outputs": [
    {
     "data": {
      "text/html": [
       "<div>\n",
       "<style scoped>\n",
       "    .dataframe tbody tr th:only-of-type {\n",
       "        vertical-align: middle;\n",
       "    }\n",
       "\n",
       "    .dataframe tbody tr th {\n",
       "        vertical-align: top;\n",
       "    }\n",
       "\n",
       "    .dataframe thead th {\n",
       "        text-align: right;\n",
       "    }\n",
       "</style>\n",
       "<table border=\"1\" class=\"dataframe\">\n",
       "  <thead>\n",
       "    <tr style=\"text-align: right;\">\n",
       "      <th></th>\n",
       "      <th>rating</th>\n",
       "      <th>genre</th>\n",
       "      <th>gender</th>\n",
       "      <th>age</th>\n",
       "      <th>occupation</th>\n",
       "      <th>cluster</th>\n",
       "    </tr>\n",
       "  </thead>\n",
       "  <tbody>\n",
       "    <tr>\n",
       "      <th>237</th>\n",
       "      <td>-0.520601</td>\n",
       "      <td>-1.145902</td>\n",
       "      <td>0.57179</td>\n",
       "      <td>1.298648</td>\n",
       "      <td>-0.158641</td>\n",
       "      <td>0</td>\n",
       "    </tr>\n",
       "    <tr>\n",
       "      <th>239</th>\n",
       "      <td>-1.415775</td>\n",
       "      <td>-1.145902</td>\n",
       "      <td>0.57179</td>\n",
       "      <td>1.298648</td>\n",
       "      <td>-0.158641</td>\n",
       "      <td>0</td>\n",
       "    </tr>\n",
       "    <tr>\n",
       "      <th>242</th>\n",
       "      <td>-2.310949</td>\n",
       "      <td>-1.145902</td>\n",
       "      <td>0.57179</td>\n",
       "      <td>1.298648</td>\n",
       "      <td>-0.158641</td>\n",
       "      <td>0</td>\n",
       "    </tr>\n",
       "    <tr>\n",
       "      <th>523</th>\n",
       "      <td>1.269747</td>\n",
       "      <td>-1.145902</td>\n",
       "      <td>0.57179</td>\n",
       "      <td>0.447728</td>\n",
       "      <td>-1.077290</td>\n",
       "      <td>0</td>\n",
       "    </tr>\n",
       "    <tr>\n",
       "      <th>524</th>\n",
       "      <td>1.269747</td>\n",
       "      <td>-1.145902</td>\n",
       "      <td>0.57179</td>\n",
       "      <td>0.447728</td>\n",
       "      <td>-1.077290</td>\n",
       "      <td>0</td>\n",
       "    </tr>\n",
       "  </tbody>\n",
       "</table>\n",
       "</div>"
      ],
      "text/plain": [
       "       rating     genre   gender       age  occupation  cluster\n",
       "237 -0.520601 -1.145902  0.57179  1.298648   -0.158641        0\n",
       "239 -1.415775 -1.145902  0.57179  1.298648   -0.158641        0\n",
       "242 -2.310949 -1.145902  0.57179  1.298648   -0.158641        0\n",
       "523  1.269747 -1.145902  0.57179  0.447728   -1.077290        0\n",
       "524  1.269747 -1.145902  0.57179  0.447728   -1.077290        0"
      ]
     },
     "execution_count": 24,
     "metadata": {},
     "output_type": "execute_result"
    }
   ],
   "source": [
    "clus0 = clust_df['cluster'] == 0\n",
    "cluster0 = clust_df[clus0]\n",
    "cluster0.head()"
   ]
  },
  {
   "cell_type": "code",
   "execution_count": 25,
   "id": "6f7f0281-1c8e-4313-96e8-039704303747",
   "metadata": {},
   "outputs": [
    {
     "data": {
      "text/html": [
       "<div>\n",
       "<style scoped>\n",
       "    .dataframe tbody tr th:only-of-type {\n",
       "        vertical-align: middle;\n",
       "    }\n",
       "\n",
       "    .dataframe tbody tr th {\n",
       "        vertical-align: top;\n",
       "    }\n",
       "\n",
       "    .dataframe thead th {\n",
       "        text-align: right;\n",
       "    }\n",
       "</style>\n",
       "<table border=\"1\" class=\"dataframe\">\n",
       "  <thead>\n",
       "    <tr style=\"text-align: right;\">\n",
       "      <th></th>\n",
       "      <th>rating</th>\n",
       "      <th>genre</th>\n",
       "      <th>gender</th>\n",
       "      <th>age</th>\n",
       "      <th>occupation</th>\n",
       "      <th>cluster</th>\n",
       "    </tr>\n",
       "  </thead>\n",
       "  <tbody>\n",
       "    <tr>\n",
       "      <th>53</th>\n",
       "      <td>-0.520601</td>\n",
       "      <td>-0.077496</td>\n",
       "      <td>0.57179</td>\n",
       "      <td>2.234661</td>\n",
       "      <td>1.219332</td>\n",
       "      <td>1</td>\n",
       "    </tr>\n",
       "    <tr>\n",
       "      <th>54</th>\n",
       "      <td>-0.520601</td>\n",
       "      <td>-1.145902</td>\n",
       "      <td>0.57179</td>\n",
       "      <td>2.234661</td>\n",
       "      <td>1.219332</td>\n",
       "      <td>1</td>\n",
       "    </tr>\n",
       "    <tr>\n",
       "      <th>55</th>\n",
       "      <td>-0.520601</td>\n",
       "      <td>0.723809</td>\n",
       "      <td>0.57179</td>\n",
       "      <td>2.234661</td>\n",
       "      <td>1.219332</td>\n",
       "      <td>1</td>\n",
       "    </tr>\n",
       "    <tr>\n",
       "      <th>56</th>\n",
       "      <td>1.269747</td>\n",
       "      <td>0.723809</td>\n",
       "      <td>0.57179</td>\n",
       "      <td>2.234661</td>\n",
       "      <td>1.219332</td>\n",
       "      <td>1</td>\n",
       "    </tr>\n",
       "    <tr>\n",
       "      <th>57</th>\n",
       "      <td>0.374573</td>\n",
       "      <td>0.723809</td>\n",
       "      <td>0.57179</td>\n",
       "      <td>2.234661</td>\n",
       "      <td>1.219332</td>\n",
       "      <td>1</td>\n",
       "    </tr>\n",
       "  </tbody>\n",
       "</table>\n",
       "</div>"
      ],
      "text/plain": [
       "      rating     genre   gender       age  occupation  cluster\n",
       "53 -0.520601 -0.077496  0.57179  2.234661    1.219332        1\n",
       "54 -0.520601 -1.145902  0.57179  2.234661    1.219332        1\n",
       "55 -0.520601  0.723809  0.57179  2.234661    1.219332        1\n",
       "56  1.269747  0.723809  0.57179  2.234661    1.219332        1\n",
       "57  0.374573  0.723809  0.57179  2.234661    1.219332        1"
      ]
     },
     "execution_count": 25,
     "metadata": {},
     "output_type": "execute_result"
    }
   ],
   "source": [
    "clus1 = clust_df['cluster'] == 1\n",
    "cluster1 = clust_df[clus1]\n",
    "cluster1.head()"
   ]
  },
  {
   "cell_type": "code",
   "execution_count": 26,
   "id": "00bf058a-a6a4-4020-aa2d-b4b8119eebe0",
   "metadata": {},
   "outputs": [
    {
     "data": {
      "text/html": [
       "<div>\n",
       "<style scoped>\n",
       "    .dataframe tbody tr th:only-of-type {\n",
       "        vertical-align: middle;\n",
       "    }\n",
       "\n",
       "    .dataframe tbody tr th {\n",
       "        vertical-align: top;\n",
       "    }\n",
       "\n",
       "    .dataframe thead th {\n",
       "        text-align: right;\n",
       "    }\n",
       "</style>\n",
       "<table border=\"1\" class=\"dataframe\">\n",
       "  <thead>\n",
       "    <tr style=\"text-align: right;\">\n",
       "      <th></th>\n",
       "      <th>rating</th>\n",
       "      <th>genre</th>\n",
       "      <th>gender</th>\n",
       "      <th>age</th>\n",
       "      <th>occupation</th>\n",
       "      <th>cluster</th>\n",
       "    </tr>\n",
       "  </thead>\n",
       "  <tbody>\n",
       "    <tr>\n",
       "      <th>183</th>\n",
       "      <td>1.269747</td>\n",
       "      <td>3.394824</td>\n",
       "      <td>0.57179</td>\n",
       "      <td>-0.403193</td>\n",
       "      <td>1.066224</td>\n",
       "      <td>2</td>\n",
       "    </tr>\n",
       "    <tr>\n",
       "      <th>236</th>\n",
       "      <td>1.269747</td>\n",
       "      <td>0.723809</td>\n",
       "      <td>0.57179</td>\n",
       "      <td>1.298648</td>\n",
       "      <td>-0.158641</td>\n",
       "      <td>2</td>\n",
       "    </tr>\n",
       "    <tr>\n",
       "      <th>262</th>\n",
       "      <td>-1.415775</td>\n",
       "      <td>2.860621</td>\n",
       "      <td>0.57179</td>\n",
       "      <td>-0.403193</td>\n",
       "      <td>1.831764</td>\n",
       "      <td>2</td>\n",
       "    </tr>\n",
       "    <tr>\n",
       "      <th>271</th>\n",
       "      <td>-0.520601</td>\n",
       "      <td>2.326418</td>\n",
       "      <td>0.57179</td>\n",
       "      <td>-0.403193</td>\n",
       "      <td>1.831764</td>\n",
       "      <td>2</td>\n",
       "    </tr>\n",
       "    <tr>\n",
       "      <th>273</th>\n",
       "      <td>0.374573</td>\n",
       "      <td>2.593519</td>\n",
       "      <td>0.57179</td>\n",
       "      <td>-0.403193</td>\n",
       "      <td>1.831764</td>\n",
       "      <td>2</td>\n",
       "    </tr>\n",
       "  </tbody>\n",
       "</table>\n",
       "</div>"
      ],
      "text/plain": [
       "       rating     genre   gender       age  occupation  cluster\n",
       "183  1.269747  3.394824  0.57179 -0.403193    1.066224        2\n",
       "236  1.269747  0.723809  0.57179  1.298648   -0.158641        2\n",
       "262 -1.415775  2.860621  0.57179 -0.403193    1.831764        2\n",
       "271 -0.520601  2.326418  0.57179 -0.403193    1.831764        2\n",
       "273  0.374573  2.593519  0.57179 -0.403193    1.831764        2"
      ]
     },
     "execution_count": 26,
     "metadata": {},
     "output_type": "execute_result"
    }
   ],
   "source": [
    "clus2 = clust_df['cluster'] == 2\n",
    "cluster2 = clust_df[clus2]\n",
    "cluster2.head()"
   ]
  },
  {
   "cell_type": "code",
   "execution_count": 27,
   "id": "ba8ec6cc-aa00-4a2e-bc51-bb63981643d6",
   "metadata": {},
   "outputs": [
    {
     "data": {
      "text/html": [
       "<div>\n",
       "<style scoped>\n",
       "    .dataframe tbody tr th:only-of-type {\n",
       "        vertical-align: middle;\n",
       "    }\n",
       "\n",
       "    .dataframe tbody tr th {\n",
       "        vertical-align: top;\n",
       "    }\n",
       "\n",
       "    .dataframe thead th {\n",
       "        text-align: right;\n",
       "    }\n",
       "</style>\n",
       "<table border=\"1\" class=\"dataframe\">\n",
       "  <thead>\n",
       "    <tr style=\"text-align: right;\">\n",
       "      <th></th>\n",
       "      <th>rating</th>\n",
       "      <th>genre</th>\n",
       "      <th>gender</th>\n",
       "      <th>age</th>\n",
       "      <th>occupation</th>\n",
       "      <th>cluster</th>\n",
       "    </tr>\n",
       "  </thead>\n",
       "  <tbody>\n",
       "    <tr>\n",
       "      <th>0</th>\n",
       "      <td>1.269747</td>\n",
       "      <td>0.723809</td>\n",
       "      <td>-1.748894</td>\n",
       "      <td>-2.445403</td>\n",
       "      <td>0.300683</td>\n",
       "      <td>3</td>\n",
       "    </tr>\n",
       "    <tr>\n",
       "      <th>1</th>\n",
       "      <td>1.269747</td>\n",
       "      <td>-0.611699</td>\n",
       "      <td>-1.748894</td>\n",
       "      <td>-2.445403</td>\n",
       "      <td>0.300683</td>\n",
       "      <td>3</td>\n",
       "    </tr>\n",
       "    <tr>\n",
       "      <th>2</th>\n",
       "      <td>0.374573</td>\n",
       "      <td>1.792215</td>\n",
       "      <td>-1.748894</td>\n",
       "      <td>-2.445403</td>\n",
       "      <td>0.300683</td>\n",
       "      <td>3</td>\n",
       "    </tr>\n",
       "    <tr>\n",
       "      <th>3</th>\n",
       "      <td>0.374573</td>\n",
       "      <td>0.723809</td>\n",
       "      <td>-1.748894</td>\n",
       "      <td>-2.445403</td>\n",
       "      <td>0.300683</td>\n",
       "      <td>3</td>\n",
       "    </tr>\n",
       "    <tr>\n",
       "      <th>4</th>\n",
       "      <td>0.374573</td>\n",
       "      <td>0.723809</td>\n",
       "      <td>-1.748894</td>\n",
       "      <td>-2.445403</td>\n",
       "      <td>0.300683</td>\n",
       "      <td>3</td>\n",
       "    </tr>\n",
       "  </tbody>\n",
       "</table>\n",
       "</div>"
      ],
      "text/plain": [
       "     rating     genre    gender       age  occupation  cluster\n",
       "0  1.269747  0.723809 -1.748894 -2.445403    0.300683        3\n",
       "1  1.269747 -0.611699 -1.748894 -2.445403    0.300683        3\n",
       "2  0.374573  1.792215 -1.748894 -2.445403    0.300683        3\n",
       "3  0.374573  0.723809 -1.748894 -2.445403    0.300683        3\n",
       "4  0.374573  0.723809 -1.748894 -2.445403    0.300683        3"
      ]
     },
     "execution_count": 27,
     "metadata": {},
     "output_type": "execute_result"
    }
   ],
   "source": [
    "clus3 = clust_df['cluster'] == 3\n",
    "cluster3 = clust_df[clus3]\n",
    "cluster3.head()"
   ]
  },
  {
   "cell_type": "markdown",
   "id": "240e740b-101b-470c-adc2-b71f7923db35",
   "metadata": {},
   "source": [
    "## 클러스터 나이 비교"
   ]
  },
  {
   "cell_type": "code",
   "execution_count": 28,
   "id": "04170f78-174a-4224-930d-ce0c37d333dc",
   "metadata": {},
   "outputs": [
    {
     "data": {
      "text/plain": [
       "-2.445403     15523\n",
       "-0.998837     82818\n",
       "-0.403193    128623\n",
       " 0.447728     48770\n",
       " 1.298648      9962\n",
       " 1.724109      7066\n",
       " 2.234661      1939\n",
       "Name: age, dtype: int64"
      ]
     },
     "execution_count": 28,
     "metadata": {},
     "output_type": "execute_result"
    }
   ],
   "source": [
    "cluster0['age'].value_counts().sort_index()"
   ]
  },
  {
   "cell_type": "code",
   "execution_count": 29,
   "id": "44173f44-2c38-4280-82eb-2e2a8a09a040",
   "metadata": {},
   "outputs": [
    {
     "data": {
      "text/plain": [
       "-2.445403      1304\n",
       "-0.998837     30646\n",
       "-0.403193    109623\n",
       " 0.447728     59948\n",
       " 1.298648     28287\n",
       " 1.724109     25569\n",
       " 2.234661     16901\n",
       "Name: age, dtype: int64"
      ]
     },
     "execution_count": 29,
     "metadata": {},
     "output_type": "execute_result"
    }
   ],
   "source": [
    "cluster1['age'].value_counts().sort_index()"
   ]
  },
  {
   "cell_type": "code",
   "execution_count": 30,
   "id": "11b48148-7814-4115-b113-6ad53241cb0c",
   "metadata": {},
   "outputs": [
    {
     "data": {
      "text/plain": [
       "-2.445403     1559\n",
       "-0.998837    24746\n",
       "-0.403193    66631\n",
       " 0.447728    41581\n",
       " 1.298648    21887\n",
       " 1.724109    22305\n",
       " 2.234661    11041\n",
       "Name: age, dtype: int64"
      ]
     },
     "execution_count": 30,
     "metadata": {},
     "output_type": "execute_result"
    }
   ],
   "source": [
    "cluster2['age'].value_counts().sort_index()"
   ]
  },
  {
   "cell_type": "code",
   "execution_count": 31,
   "id": "15bf458f-90d5-4d53-b98d-ccf24c101e09",
   "metadata": {},
   "outputs": [
    {
     "data": {
      "text/plain": [
       "-2.445403     8825\n",
       "-0.998837    45326\n",
       "-0.403193    90679\n",
       " 0.447728    48704\n",
       " 1.298648    23497\n",
       " 1.724109    17550\n",
       " 2.234661     8899\n",
       "Name: age, dtype: int64"
      ]
     },
     "execution_count": 31,
     "metadata": {},
     "output_type": "execute_result"
    }
   ],
   "source": [
    "cluster3['age'].value_counts().sort_index()"
   ]
  },
  {
   "cell_type": "markdown",
   "id": "757d4247-3c3d-44f5-bb97-d425b5a6a9ff",
   "metadata": {},
   "source": [
    "## 클러스터 장르 비교"
   ]
  },
  {
   "cell_type": "code",
   "execution_count": 32,
   "id": "90a7860b-3592-495e-bbf3-5bbbd9a9b78d",
   "metadata": {
    "tags": []
   },
   "outputs": [
    {
     "data": {
      "text/plain": [
       "-1.145902    123667\n",
       "-0.878800     18624\n",
       "-0.611699     15398\n",
       "-0.344597      8632\n",
       "-0.077496    102493\n",
       " 0.189606     11482\n",
       " 0.456707      1134\n",
       " 0.723809     13032\n",
       " 0.990910        33\n",
       " 1.258012        44\n",
       " 1.525113       162\n",
       "Name: genre, dtype: int64"
      ]
     },
     "execution_count": 32,
     "metadata": {},
     "output_type": "execute_result"
    }
   ],
   "source": [
    "cluster0['genre'].value_counts().sort_index()"
   ]
  },
  {
   "cell_type": "code",
   "execution_count": 33,
   "id": "fdc270aa-1cd5-4c31-98e9-ddd0e8a09403",
   "metadata": {},
   "outputs": [
    {
     "data": {
      "text/plain": [
       "-1.145902    88141\n",
       "-0.878800    14684\n",
       "-0.611699    10539\n",
       "-0.344597     5926\n",
       "-0.077496    81519\n",
       " 0.189606    11996\n",
       " 0.456707     2010\n",
       " 0.723809    49313\n",
       " 0.990910      204\n",
       " 1.258012     1482\n",
       " 1.525113     6078\n",
       " 1.792215      238\n",
       " 2.059316      135\n",
       " 2.326418       13\n",
       "Name: genre, dtype: int64"
      ]
     },
     "execution_count": 33,
     "metadata": {},
     "output_type": "execute_result"
    }
   ],
   "source": [
    "cluster1['genre'].value_counts().sort_index()"
   ]
  },
  {
   "cell_type": "code",
   "execution_count": 34,
   "id": "c98329de-4f7a-4905-916d-ac6fd0e4d3fb",
   "metadata": {},
   "outputs": [
    {
     "data": {
      "text/plain": [
       "-0.611699       81\n",
       "-0.344597      283\n",
       "-0.077496    16012\n",
       " 0.189606     5958\n",
       " 0.456707     1971\n",
       " 0.723809    84841\n",
       " 0.990910      426\n",
       " 1.258012     5749\n",
       " 1.525113    29322\n",
       " 1.792215     4030\n",
       " 2.059316     7513\n",
       " 2.326418     1715\n",
       " 2.593519     9885\n",
       " 2.860621    15334\n",
       " 3.127722      978\n",
       " 3.394824     5652\n",
       "Name: genre, dtype: int64"
      ]
     },
     "execution_count": 34,
     "metadata": {},
     "output_type": "execute_result"
    }
   ],
   "source": [
    "cluster2['genre'].value_counts().sort_index()"
   ]
  },
  {
   "cell_type": "code",
   "execution_count": 35,
   "id": "ab6d9bfc-c8fa-4b9e-b6fe-8fce378824a7",
   "metadata": {},
   "outputs": [
    {
     "data": {
      "text/plain": [
       "-1.145902    45649\n",
       "-0.878800    10322\n",
       "-0.611699    10918\n",
       "-0.344597     6650\n",
       "-0.077496    76899\n",
       " 0.189606     8413\n",
       " 0.456707     1702\n",
       " 0.723809    61441\n",
       " 0.990910      127\n",
       " 1.258012     2068\n",
       " 1.525113     8608\n",
       " 1.792215     2844\n",
       " 2.059316     2589\n",
       " 2.326418     1104\n",
       " 2.593519     1579\n",
       " 2.860621     2517\n",
       " 3.127722       13\n",
       " 3.394824       37\n",
       "Name: genre, dtype: int64"
      ]
     },
     "execution_count": 35,
     "metadata": {},
     "output_type": "execute_result"
    }
   ],
   "source": [
    "cluster3['genre'].value_counts().sort_index()"
   ]
  },
  {
   "cell_type": "markdown",
   "id": "58a17c0f-31c4-499c-a3fa-a73d60bcc796",
   "metadata": {},
   "source": [
    "## 클러스터 성별 비교"
   ]
  },
  {
   "cell_type": "code",
   "execution_count": 36,
   "id": "be0061a3-8c4e-4820-9c2c-e66c682272f6",
   "metadata": {},
   "outputs": [
    {
     "data": {
      "text/plain": [
       "0.57179    294701\n",
       "Name: gender, dtype: int64"
      ]
     },
     "execution_count": 36,
     "metadata": {},
     "output_type": "execute_result"
    }
   ],
   "source": [
    "cluster0['gender'].value_counts().sort_index()"
   ]
  },
  {
   "cell_type": "code",
   "execution_count": 37,
   "id": "2cb38743-dcef-45f0-9b00-546b3700a2bb",
   "metadata": {},
   "outputs": [
    {
     "data": {
      "text/plain": [
       "-1.748894         1\n",
       " 0.571790    272277\n",
       "Name: gender, dtype: int64"
      ]
     },
     "execution_count": 37,
     "metadata": {},
     "output_type": "execute_result"
    }
   ],
   "source": [
    "cluster1['gender'].value_counts().sort_index()"
   ]
  },
  {
   "cell_type": "code",
   "execution_count": 38,
   "id": "e6879891-3a8b-4ad4-97a3-15c63cdbc31f",
   "metadata": {},
   "outputs": [
    {
     "data": {
      "text/plain": [
       "-1.748894      2959\n",
       " 0.571790    186791\n",
       "Name: gender, dtype: int64"
      ]
     },
     "execution_count": 38,
     "metadata": {},
     "output_type": "execute_result"
    }
   ],
   "source": [
    "cluster2['gender'].value_counts().sort_index()"
   ]
  },
  {
   "cell_type": "code",
   "execution_count": 39,
   "id": "9981bdec-a839-44ec-9388-94df3bad32ee",
   "metadata": {},
   "outputs": [
    {
     "data": {
      "text/plain": [
       "-1.748894    243480\n",
       "Name: gender, dtype: int64"
      ]
     },
     "execution_count": 39,
     "metadata": {},
     "output_type": "execute_result"
    }
   ],
   "source": [
    "cluster3['gender'].value_counts().sort_index()"
   ]
  },
  {
   "cell_type": "code",
   "execution_count": 40,
   "id": "5a2edf5d-1963-4e38-a453-fd83820eec6a",
   "metadata": {},
   "outputs": [
    {
     "data": {
      "text/plain": [
       "-1.230398    65424\n",
       "-1.077290    30126\n",
       "-0.924182    21748\n",
       "-0.771074    10238\n",
       "-0.617966    74968\n",
       "-0.464857    12321\n",
       "-0.311749    11741\n",
       "-0.158641    45914\n",
       "-0.005533      671\n",
       " 0.147575      254\n",
       " 0.300683    13945\n",
       " 0.453791     2466\n",
       " 0.606899     4667\n",
       " 0.760007       19\n",
       " 0.913116      198\n",
       " 1.372440        1\n",
       "Name: occupation, dtype: int64"
      ]
     },
     "execution_count": 40,
     "metadata": {},
     "output_type": "execute_result"
    }
   ],
   "source": [
    "cluster0['occupation'].value_counts().sort_index()"
   ]
  },
  {
   "cell_type": "code",
   "execution_count": 41,
   "id": "bde6cad8-11f3-41ee-a7a3-f005fc340409",
   "metadata": {},
   "outputs": [
    {
     "data": {
      "text/plain": [
       "-0.464857       24\n",
       "-0.311749      940\n",
       "-0.158641     8180\n",
       "-0.005533      797\n",
       " 0.147575      222\n",
       " 0.300683      376\n",
       " 0.453791    10177\n",
       " 0.606899    34128\n",
       " 0.760007     8564\n",
       " 0.913116    32911\n",
       " 1.066224    16948\n",
       " 1.219332    34658\n",
       " 1.372440    60281\n",
       " 1.525548    10851\n",
       " 1.678656    10861\n",
       " 1.831764    42360\n",
       "Name: occupation, dtype: int64"
      ]
     },
     "execution_count": 41,
     "metadata": {},
     "output_type": "execute_result"
    }
   ],
   "source": [
    "cluster1['occupation'].value_counts().sort_index()"
   ]
  },
  {
   "cell_type": "code",
   "execution_count": 42,
   "id": "b715593b-a9a1-490f-a669-9238ac89a95c",
   "metadata": {},
   "outputs": [
    {
     "data": {
      "text/plain": [
       "-1.230398    32686\n",
       "-1.077290    23229\n",
       "-0.924182    12511\n",
       "-0.771074     7325\n",
       "-0.617966    23758\n",
       "-0.464857     5663\n",
       "-0.311749     9842\n",
       "-0.158641    33614\n",
       "-0.005533      620\n",
       " 0.147575      439\n",
       " 0.300683     1986\n",
       " 0.453791     5300\n",
       " 0.606899    11705\n",
       " 0.760007     2412\n",
       " 0.913116     4076\n",
       " 1.066224     1830\n",
       " 1.219332     4019\n",
       " 1.372440     4944\n",
       " 1.525548      828\n",
       " 1.678656      577\n",
       " 1.831764     2386\n",
       "Name: occupation, dtype: int64"
      ]
     },
     "execution_count": 42,
     "metadata": {},
     "output_type": "execute_result"
    }
   ],
   "source": [
    "cluster2['occupation'].value_counts().sort_index()"
   ]
  },
  {
   "cell_type": "code",
   "execution_count": 43,
   "id": "e9d046fb-5e87-45a2-8ef1-8740c9cd6944",
   "metadata": {},
   "outputs": [
    {
     "data": {
      "text/plain": [
       "-1.230398    32389\n",
       "-1.077290    31996\n",
       "-0.924182    15809\n",
       "-0.771074    14060\n",
       "-0.617966    32306\n",
       "-0.464857     3842\n",
       "-0.311749    14682\n",
       "-0.158641    17717\n",
       "-0.005533      618\n",
       " 0.147575    10430\n",
       " 0.300683     6983\n",
       " 0.453791     2620\n",
       " 0.606899     6714\n",
       " 0.760007     2759\n",
       " 0.913116    11924\n",
       " 1.066224     4173\n",
       " 1.219332     7344\n",
       " 1.372440     7590\n",
       " 1.525548      407\n",
       " 1.678656     3466\n",
       " 1.831764    15651\n",
       "Name: occupation, dtype: int64"
      ]
     },
     "execution_count": 43,
     "metadata": {},
     "output_type": "execute_result"
    }
   ],
   "source": [
    "cluster3['occupation'].value_counts().sort_index()"
   ]
  },
  {
   "cell_type": "markdown",
   "id": "49d389c3-c886-428a-8494-30d7fa1204cf",
   "metadata": {},
   "source": [
    "## 클러스터 평점 비교"
   ]
  },
  {
   "cell_type": "code",
   "execution_count": 44,
   "id": "05e011eb-06d2-4ae8-b80b-a3e29d8ee4c8",
   "metadata": {
    "tags": []
   },
   "outputs": [
    {
     "data": {
      "text/plain": [
       "-2.310949    23387\n",
       "-1.415775    42993\n",
       "-0.520601    83318\n",
       " 0.374573    92996\n",
       " 1.269747    52007\n",
       "Name: rating, dtype: int64"
      ]
     },
     "execution_count": 44,
     "metadata": {},
     "output_type": "execute_result"
    }
   ],
   "source": [
    "cluster0['rating'].value_counts().sort_index()"
   ]
  },
  {
   "cell_type": "code",
   "execution_count": 45,
   "id": "14794316-0ec4-4aca-933c-ad14f1960a76",
   "metadata": {},
   "outputs": [
    {
     "data": {
      "text/plain": [
       "-2.310949    13093\n",
       "-1.415775    28101\n",
       "-0.520601    74518\n",
       " 0.374573    96742\n",
       " 1.269747    59824\n",
       "Name: rating, dtype: int64"
      ]
     },
     "execution_count": 45,
     "metadata": {},
     "output_type": "execute_result"
    }
   ],
   "source": [
    "cluster1['rating'].value_counts().sort_index()"
   ]
  },
  {
   "cell_type": "code",
   "execution_count": 46,
   "id": "a3fedebb-b53b-4918-8320-040f90a8cb66",
   "metadata": {},
   "outputs": [
    {
     "data": {
      "text/plain": [
       "-2.310949     6377\n",
       "-1.415775    12015\n",
       "-0.520601    40901\n",
       " 0.374573    73371\n",
       " 1.269747    57086\n",
       "Name: rating, dtype: int64"
      ]
     },
     "execution_count": 46,
     "metadata": {},
     "output_type": "execute_result"
    }
   ],
   "source": [
    "cluster2['rating'].value_counts().sort_index()"
   ]
  },
  {
   "cell_type": "code",
   "execution_count": 47,
   "id": "207feb23-3c19-4c39-ad3e-e3191a50995d",
   "metadata": {},
   "outputs": [
    {
     "data": {
      "text/plain": [
       "-2.310949    13317\n",
       "-1.415775    24448\n",
       "-0.520601    62460\n",
       " 0.374573    85862\n",
       " 1.269747    57393\n",
       "Name: rating, dtype: int64"
      ]
     },
     "execution_count": 47,
     "metadata": {},
     "output_type": "execute_result"
    }
   ],
   "source": [
    "cluster3['rating'].value_counts().sort_index()"
   ]
  },
  {
   "cell_type": "markdown",
   "id": "efbb1c2e-e286-4ad6-922d-12557e39842a",
   "metadata": {},
   "source": [
    "군집 비교 분석 결과\n",
    "cluster0은 액션, 코미디 장르를 좋아하며 성별은 여자가 전부이다. 직업이 대학생이나 대학원생이 가장 큰 비중을 차지했다.\n",
    "cluster1은 액션, 코미디, 드라마 장르를 좋아하며 성별은 전부 여자다. 직업이 기술자와 엔지니어가 가장 큰 비중을 차지했다.\n",
    "cluster2은 호러, 스릴러 남자와 여자 모두 포함하며 직업은 임원/관리자가 가장 큰 비중을 차지했다.\n",
    "cluster3은 액션, 코미디, 드라마 성별은 전부 남자이며, 직업이 대학생과 대학원생, 교육자가 큰 비중을 차지한다."
   ]
  }
 ],
 "metadata": {
  "kernelspec": {
   "display_name": "Python 3 (ipykernel)",
   "language": "python",
   "name": "python3"
  },
  "language_info": {
   "codemirror_mode": {
    "name": "ipython",
    "version": 3
   },
   "file_extension": ".py",
   "mimetype": "text/x-python",
   "name": "python",
   "nbconvert_exporter": "python",
   "pygments_lexer": "ipython3",
   "version": "3.9.7"
  }
 },
 "nbformat": 4,
 "nbformat_minor": 5
}
